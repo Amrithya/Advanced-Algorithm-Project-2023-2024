{
 "cells": [
  {
   "cell_type": "markdown",
   "metadata": {},
   "source": [
    "# Import all the important libraries required"
   ]
  },
  {
   "cell_type": "code",
   "execution_count": 11,
   "metadata": {},
   "outputs": [],
   "source": [
    "from brute.brute_force import brute_force_non_constrained, brute_force_constrained\n",
    "from greedy.greedy_algorithm import greedy_algorithm_constrained,greedy_algorithm_non_constrained\n",
    "from dynamic_programming.dynamic_programming import maxMatrixSum_constraint\n",
    "from test_class.test_algorithm import TestAlgorithm\n",
    "from visualizations.visualize import create_test_result_plots\n",
    "from branch_and_bound.branch_and_bound_ import max_segment_branch_and_bound\n",
    "from ant_colony_approach.ant_colony_algorithm_no_constraint import  ant_colony_algorithm \n",
    "from ant_colony_approach.ant_colony_algorithm_with_constraint import ant_colony_optimization\n",
    "from genetic_algorithm.genetic_algorithm_with_constraint import genetic_algorithm as genetic_algorithm_constrained\n",
    "from genetic_algorithm.genetic_algorithm_no_constraint import max_segment_2d_genetic \n",
    "\n",
    "import numpy as np\n",
    "import timeit\n"
   ]
  },
  {
   "cell_type": "markdown",
   "metadata": {},
   "source": [
    "### Create an instance of the Test Class\n"
   ]
  },
  {
   "cell_type": "code",
   "execution_count": 12,
   "metadata": {},
   "outputs": [],
   "source": [
    "test_algorithm_instance = TestAlgorithm()"
   ]
  },
  {
   "cell_type": "markdown",
   "metadata": {},
   "source": [
    "Test of the Ant Colony Approch no constraint"
   ]
  },
  {
   "cell_type": "code",
   "execution_count": null,
   "metadata": {},
   "outputs": [],
   "source": [
    "algorithm_name = \"ant_colony_algorithm non Constrained algorithm\"\n",
    "test_results = test_algorithm_instance.run_algorithm_tests(ant_colony_algorithm,algorithm_name)\n",
    "create_test_result_plots(test_results,algorithm_name)\n"
   ]
  },
  {
   "cell_type": "markdown",
   "metadata": {},
   "source": [
    "Test of the Ant Colony with constraint"
   ]
  },
  {
   "cell_type": "code",
   "execution_count": null,
   "metadata": {},
   "outputs": [],
   "source": [
    "algorithm_name = \"ant_colony_algorithm with Constrained algorithm\"\n",
    "test_results = test_algorithm_instance.run_algorithm_tests(ant_colony_optimization,algorithm_name,constrained_type='variable')\n",
    "create_test_result_plots(test_results,algorithm_name)\n"
   ]
  },
  {
   "cell_type": "markdown",
   "metadata": {},
   "source": [
    "Test of the genetic algorithm with constraint"
   ]
  },
  {
   "cell_type": "code",
   "execution_count": null,
   "metadata": {},
   "outputs": [],
   "source": [
    "algorithm_name = \"genetic algorithm with Constrained algorithm\"\n",
    "test_results = test_algorithm_instance.run_algorithm_tests(genetic_algorithm_constrained,algorithm_name,constrained_type='variable')\n",
    "create_test_result_plots(test_results,algorithm_name)\n"
   ]
  },
  {
   "cell_type": "markdown",
   "metadata": {},
   "source": [
    "Test of Genetic Algorithm No Constraint"
   ]
  },
  {
   "cell_type": "code",
   "execution_count": null,
   "metadata": {},
   "outputs": [],
   "source": [
    "algorithm_name = \"genetic algorithm No Constraint algorithm\"\n",
    "test_results = test_algorithm_instance.run_algorithm_tests(max_segment_2d_genetic,algorithm_name)\n",
    "create_test_result_plots(test_results,algorithm_name)\n"
   ]
  },
  {
   "cell_type": "markdown",
   "metadata": {},
   "source": [
    "# Test of the brute force non constrained\n"
   ]
  },
  {
   "cell_type": "code",
   "execution_count": null,
   "metadata": {},
   "outputs": [],
   "source": [
    "algorithm_name = \"Brute Force non Constrained algorithm\"\n",
    "test_results = test_algorithm_instance.run_algorithm_tests(brute_force_non_constrained,algorithm_name)\n",
    "# create_test_result_plots(test_results,algorithm_name)\n"
   ]
  },
  {
   "cell_type": "markdown",
   "metadata": {},
   "source": [
    "# Test of the greedy algorithm non constrained\n"
   ]
  },
  {
   "cell_type": "code",
   "execution_count": null,
   "metadata": {},
   "outputs": [],
   "source": [
    "algorithm_name = \"Greedy non Constrained algorithm\"\n",
    "test_results= test_algorithm_instance.run_algorithm_tests(greedy_algorithm_non_constrained, \"Greedy algorithm non constrained\")\n",
    "create_test_result_plots(test_results,algorithm_name)\n"
   ]
  },
  {
   "cell_type": "markdown",
   "metadata": {},
   "source": [
    "## Greedy constrained with variable constraints"
   ]
  },
  {
   "cell_type": "code",
   "execution_count": null,
   "metadata": {},
   "outputs": [],
   "source": [
    "algorithm_name = \"maxMatrixSum_constraint\"\n",
    "test_results= test_algorithm_instance.run_algorithm_tests(greedy_algorithm_constrained, algorithm_name,constrained_type='variable')\n",
    "create_test_result_plots(test_results,algorithm_name)"
   ]
  },
  {
   "cell_type": "markdown",
   "metadata": {},
   "source": [
    "## Greedy constrained with fixed 2x3 constraints on different matrix sizes"
   ]
  },
  {
   "cell_type": "code",
   "execution_count": null,
   "metadata": {},
   "outputs": [],
   "source": [
    "algorithm_name = \"greedy_algorithm_constrained\"\n",
    "test_results = test_algorithm_instance.run_algorithm_tests(greedy_algorithm_constrained, algorithm_name,constrained_type='fixed')\n",
    "create_test_result_plots(test_results,algorithm_name)\n",
    "print(test_results['constraints_type'])"
   ]
  },
  {
   "cell_type": "code",
   "execution_count": null,
   "metadata": {},
   "outputs": [],
   "source": [
    "\n",
    "\n",
    "# start_time = timeit.default_timer()  # Record .the start time\n",
    "# result, top_left, bottom_right = greedy_algorithm_non_constrained(np.random.randint(-50,50,(100,1000)))\n",
    "# end_time = timeit.default_timer()  # Record the end time\n",
    "# execution_time = end_time-start_time\n",
    "# print(result, top_left, bottom_right,\"execution time:\", execution_time)\n",
    "\n",
    "\n",
    "\n",
    "# # test_algorithm_instance.run_algorithm_tests(greedy_algorithm_non_constrained, \"Greedy_algorithm_non_constrained\")\n",
    "\n",
    "\n"
   ]
  }
 ],
 "metadata": {
  "kernelspec": {
   "display_name": "Python 3 (ipykernel)",
   "language": "python",
   "name": "python3"
  },
  "language_info": {
   "codemirror_mode": {
    "name": "ipython",
    "version": 3
   },
   "file_extension": ".py",
   "mimetype": "text/x-python",
   "name": "python",
   "nbconvert_exporter": "python",
   "pygments_lexer": "ipython3",
   "version": "3.9.18"
  }
 },
 "nbformat": 4,
 "nbformat_minor": 2
}
