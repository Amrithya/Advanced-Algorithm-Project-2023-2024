{
  "nbformat": 4,
  "nbformat_minor": 0,
  "metadata": {
    "colab": {
      "provenance": []
    },
    "kernelspec": {
      "name": "python3",
      "display_name": "Python 3"
    },
    "language_info": {
      "name": "python"
    }
  },
  "cells": [
    {
      "cell_type": "code",
      "source": [
        "!pip install ipython-autotime\n",
        "%load_ext autotime\n",
        "\n",
        "from matplotlib import pyplot as plt\n",
        "import cProfile\n",
        "import re\n",
        "from time import perf_counter"
      ],
      "metadata": {
        "colab": {
          "base_uri": "https://localhost:8080/"
        },
        "id": "zzte3SBNNdAL",
        "outputId": "a953eb85-676a-45c9-d015-65794c14d19d"
      },
      "execution_count": 1,
      "outputs": [
        {
          "output_type": "stream",
          "name": "stdout",
          "text": [
            "Collecting ipython-autotime\n",
            "  Downloading ipython_autotime-0.3.2-py2.py3-none-any.whl (7.0 kB)\n",
            "Requirement already satisfied: ipython in /usr/local/lib/python3.10/dist-packages (from ipython-autotime) (7.34.0)\n",
            "Requirement already satisfied: setuptools>=18.5 in /usr/local/lib/python3.10/dist-packages (from ipython->ipython-autotime) (67.7.2)\n",
            "Collecting jedi>=0.16 (from ipython->ipython-autotime)\n",
            "  Downloading jedi-0.19.1-py2.py3-none-any.whl (1.6 MB)\n",
            "\u001b[2K     \u001b[90m━━━━━━━━━━━━━━━━━━━━━━━━━━━━━━━━━━━━━━━━\u001b[0m \u001b[32m1.6/1.6 MB\u001b[0m \u001b[31m16.4 MB/s\u001b[0m eta \u001b[36m0:00:00\u001b[0m\n",
            "\u001b[?25hRequirement already satisfied: decorator in /usr/local/lib/python3.10/dist-packages (from ipython->ipython-autotime) (4.4.2)\n",
            "Requirement already satisfied: pickleshare in /usr/local/lib/python3.10/dist-packages (from ipython->ipython-autotime) (0.7.5)\n",
            "Requirement already satisfied: traitlets>=4.2 in /usr/local/lib/python3.10/dist-packages (from ipython->ipython-autotime) (5.7.1)\n",
            "Requirement already satisfied: prompt-toolkit!=3.0.0,!=3.0.1,<3.1.0,>=2.0.0 in /usr/local/lib/python3.10/dist-packages (from ipython->ipython-autotime) (3.0.41)\n",
            "Requirement already satisfied: pygments in /usr/local/lib/python3.10/dist-packages (from ipython->ipython-autotime) (2.16.1)\n",
            "Requirement already satisfied: backcall in /usr/local/lib/python3.10/dist-packages (from ipython->ipython-autotime) (0.2.0)\n",
            "Requirement already satisfied: matplotlib-inline in /usr/local/lib/python3.10/dist-packages (from ipython->ipython-autotime) (0.1.6)\n",
            "Requirement already satisfied: pexpect>4.3 in /usr/local/lib/python3.10/dist-packages (from ipython->ipython-autotime) (4.8.0)\n",
            "Requirement already satisfied: parso<0.9.0,>=0.8.3 in /usr/local/lib/python3.10/dist-packages (from jedi>=0.16->ipython->ipython-autotime) (0.8.3)\n",
            "Requirement already satisfied: ptyprocess>=0.5 in /usr/local/lib/python3.10/dist-packages (from pexpect>4.3->ipython->ipython-autotime) (0.7.0)\n",
            "Requirement already satisfied: wcwidth in /usr/local/lib/python3.10/dist-packages (from prompt-toolkit!=3.0.0,!=3.0.1,<3.1.0,>=2.0.0->ipython->ipython-autotime) (0.2.10)\n",
            "Installing collected packages: jedi, ipython-autotime\n",
            "Successfully installed ipython-autotime-0.3.2 jedi-0.19.1\n",
            "time: 671 µs (started: 2023-12-01 14:47:28 +00:00)\n"
          ]
        }
      ]
    },
    {
      "cell_type": "code",
      "source": [
        "tests = [\n",
        "    {\n",
        "        \"matrix\": [\n",
        "            [1, 2, -1, -4, -20],\n",
        "            [-8, -3, 4, 2, 1],\n",
        "            [3, 8, 10, 1, 3],\n",
        "            [-4, -1, 1, 7, -6],\n",
        "        ],\n",
        "        \"expected_result\": 29,\n",
        "        \"subarray_indices\": [(1, 1), (3, 3)], #top left and bottom right indices\n",
        "    },\n",
        "\n",
        "    {\n",
        "        \"matrix\": [[1, 2, 3], [4, 5, 6], [7, 8, 9]],\n",
        "        \"expected_result\": 45,\n",
        "        \"subarray_indices\": [(0, 0), (2, 2)],\n",
        "    },\n",
        "    {\n",
        "        \"matrix\": [[-1, -2, -3], [-4, -5, -6], [-7, -8, -9]],\n",
        "        \"expected_result\": -1,\n",
        "        \"subarray_indices\": [(0, 0), (0, 0)],\n",
        "    },\n",
        "    {\n",
        "        \"matrix\": [[1, -2, 3], [4, -5, 6], [7, -8, 9]],\n",
        "        \"expected_result\": 18,\n",
        "        \"subarray_indices\": [(0, 2), (2, 2)],\n",
        "    },\n",
        "    {\n",
        "        \"matrix\": [[1, 2], [3, 4]],\n",
        "        \"expected_result\": 10,\n",
        "        \"subarray_indices\": [(0, 0), (1, 1)],\n",
        "    },\n",
        "    {\n",
        "        \"matrix\": [\n",
        "            [2, -1, 4, -6, 2],\n",
        "            [-3, 2, -1, 4, -3],\n",
        "            [1, -5, 2, -1, 5],\n",
        "            [4, -2, 3, 7, -2],\n",
        "        ],\n",
        "        \"expected_result\": 14,\n",
        "        \"subarray_indices\": [(0, 2), (3, 4)],\n",
        "    },\n",
        "    {\n",
        "        \"matrix\": [[-2, 5, -1, 4], [8, -6, 3, 1], [2, 2, -4, -1], [-3, 2, 6, -1]],\n",
        "        \"expected_result\": 15,\n",
        "        \"subarray_indices\": [(0, 0), (3, 3)],\n",
        "    },\n",
        "    {\n",
        "        \"matrix\": [[1, 2, 3], [4, 5, 6], [7, 8, 9], [10, 11, 12]],\n",
        "        \"expected_result\": 78,\n",
        "        \"subarray_indices\": [(0, 0), (3, 2)],\n",
        "    },\n",
        "    {\n",
        "        \"matrix\": [[-1, -2, -3], [-4, -5, -6], [-7, -8, -9], [-10, -11, -12]],\n",
        "        \"expected_result\": -1,\n",
        "        \"subarray_indices\": [(0, 0), (0, 0)],\n",
        "    },\n",
        "    {\n",
        "        \"matrix\": [[1, -2, 3], [4, -5, 6], [7, -8, 9]],\n",
        "        \"expected_result\": 18,\n",
        "        \"subarray_indices\": [(0, 2), (2, 2)],\n",
        "    },\n",
        "    {\n",
        "        \"matrix\": [[1, 2], [3, 4]],\n",
        "        \"expected_result\": 10,\n",
        "        \"subarray_indices\": [(0, 0), (1, 1)],\n",
        "    },\n",
        "    {\n",
        "        \"matrix\": [[1, 2, 3], [4, 5, 6], [7, 8, 9], [10, 11, 12]],\n",
        "        \"expected_result\": 78,\n",
        "        \"subarray_indices\": [(0, 0), (3, 2)],\n",
        "    },\n",
        "    {\n",
        "        \"matrix\": [[-1, -2, -3], [-4, -5, -6], [-7, -8, -9], [-10, -11, -12]],\n",
        "        \"expected_result\": -1,\n",
        "        \"subarray_indices\": [(0, 0), (0, 0)],\n",
        "    },\n",
        "    {\n",
        "        \"matrix\": [[1, -2, 3],\n",
        "                   [4, -5, 6],\n",
        "                   [7, -8, 9]],\n",
        "        \"expected_result\": 18,\n",
        "        \"subarray_indices\": [(0, 2), (2, 2)],\n",
        "    },\n",
        "    {\n",
        "        \"matrix\": [[1, 2], [3, 4]],\n",
        "        \"expected_result\": 10,\n",
        "        \"subarray_indices\": [(0, 0), (1, 1)],\n",
        "    },\n",
        "    {\n",
        "        \"matrix\": [\n",
        "            [2, -1, 4, -6, 2],\n",
        "            [-3, 2, -1, 4, -3],\n",
        "            [1, -5, 2, -1, 5],\n",
        "            [4, -2, 3, 7, -2],\n",
        "        ],\n",
        "        \"expected_result\": 14,\n",
        "        \"subarray_indices\": [(0, 2), (3, 4)],\n",
        "    },\n",
        "    {\n",
        "        \"matrix\": [\n",
        "            [-2, 5, -1, 4],\n",
        "            [8, -6, 3, 1],\n",
        "            [2, 2, -4, -1],\n",
        "            [-3, 2, 6, -1]],\n",
        "        \"expected_result\": 15,\n",
        "        \"subarray_indices\": [(0, 0), (3, 3)],\n",
        "    },\n",
        "    {\n",
        "        \"matrix\": [[1, 1],\n",
        "                   [1, 1], [1, 1], [1, 1]],\n",
        "        \"expected_result\": 8,\n",
        "        \"subarray_indices\": [(0, 0), (3, 1)],\n",
        "    },\n",
        "]\n"
      ],
      "metadata": {
        "id": "x9xQ4OSBNoCZ",
        "colab": {
          "base_uri": "https://localhost:8080/"
        },
        "outputId": "808cb47e-fda7-4106-faa8-ef51cd751edf"
      },
      "execution_count": 2,
      "outputs": [
        {
          "output_type": "stream",
          "name": "stdout",
          "text": [
            "time: 2.14 ms (started: 2023-12-01 14:53:59 +00:00)\n"
          ]
        }
      ]
    },
    {
      "cell_type": "code",
      "source": [
        "import random\n",
        "\n",
        "def preprocess_sum_matrix(matrix):\n",
        "    M, N = len(matrix), len(matrix[0])\n",
        "    sum_matrix = [[0] * (N + 1) for _ in range(M + 1)]\n",
        "\n",
        "    for i in range(1, M + 1):\n",
        "        for j in range(1, N + 1):\n",
        "            sum_matrix[i][j] = (sum_matrix[i - 1][j] + sum_matrix[i][j - 1] -\n",
        "                                sum_matrix[i - 1][j - 1] + matrix[i - 1][j - 1])\n",
        "\n",
        "    return sum_matrix\n",
        "\n",
        "def submatrix_sum(sum_matrix, top, left, bottom, right):\n",
        "    return (sum_matrix[bottom + 1][right + 1] - sum_matrix[top][right + 1] -\n",
        "            sum_matrix[bottom + 1][left] + sum_matrix[top][left])\n",
        "\n",
        "def random_submatrix_sum(matrix, num_iterations=100):\n",
        "    M, N = len(matrix), len(matrix[0])\n",
        "    sum_matrix = preprocess_sum_matrix(matrix)\n",
        "    submatrices = [((top, left), (bottom, right))\n",
        "                   for top in range(M) for bottom in range(top, M)\n",
        "                   for left in range(N) for right in range(left, N)]\n",
        "\n",
        "    random.shuffle(submatrices)\n",
        "    max_sum = float('-inf')\n",
        "    best_submatrix = None\n",
        "\n",
        "    for submatrix in submatrices[:num_iterations]:\n",
        "        top, left = submatrix[0]\n",
        "        bottom, right = submatrix[1]\n",
        "\n",
        "        current_sum = submatrix_sum(sum_matrix, top, left, bottom, right)\n",
        "\n",
        "        if current_sum > max_sum:\n",
        "            max_sum = current_sum\n",
        "            best_submatrix = submatrix\n",
        "\n",
        "    return max_sum, best_submatrix\n",
        "\n",
        "for i in range(len(tests)):\n",
        "  matrix = tests[i]\n",
        "  result, best_submatrix = random_submatrix_sum(matrix[\"matrix\"]) # Limiting the iterations to 100\n",
        "  print(\"Maximum Sum of Contiguous Elements:\", result)\n",
        "  print(\"Best Submatrix:\", best_submatrix)\n",
        "\n",
        "\n",
        "#result, best_submatrix = random_submatrix_sum(matrix, 100)  # Limiting the iterations to 100\n",
        "#print(\"Maximum Sum of Contiguous Elements:\", result)\n",
        "#print(\"Best Submatrix:\", best_submatrix)\n"
      ],
      "metadata": {
        "colab": {
          "base_uri": "https://localhost:8080/"
        },
        "id": "vgU9S96x4ElM",
        "outputId": "f9bf571d-8c81-4f6a-b8f2-d6dd4d2a69ce"
      },
      "execution_count": 9,
      "outputs": [
        {
          "output_type": "stream",
          "name": "stdout",
          "text": [
            "Maximum Sum of Contiguous Elements: 29\n",
            "Best Submatrix: ((1, 1), (3, 3))\n",
            "Maximum Sum of Contiguous Elements: 45\n",
            "Best Submatrix: ((0, 0), (2, 2))\n",
            "Maximum Sum of Contiguous Elements: -1\n",
            "Best Submatrix: ((0, 0), (0, 0))\n",
            "Maximum Sum of Contiguous Elements: 18\n",
            "Best Submatrix: ((0, 2), (2, 2))\n",
            "Maximum Sum of Contiguous Elements: 10\n",
            "Best Submatrix: ((0, 0), (1, 1))\n",
            "Maximum Sum of Contiguous Elements: 14\n",
            "Best Submatrix: ((1, 2), (3, 3))\n",
            "Maximum Sum of Contiguous Elements: 15\n",
            "Best Submatrix: ((0, 0), (3, 3))\n",
            "Maximum Sum of Contiguous Elements: 78\n",
            "Best Submatrix: ((0, 0), (3, 2))\n",
            "Maximum Sum of Contiguous Elements: -1\n",
            "Best Submatrix: ((0, 0), (0, 0))\n",
            "Maximum Sum of Contiguous Elements: 18\n",
            "Best Submatrix: ((0, 2), (2, 2))\n",
            "Maximum Sum of Contiguous Elements: 10\n",
            "Best Submatrix: ((0, 0), (1, 1))\n",
            "Maximum Sum of Contiguous Elements: 78\n",
            "Best Submatrix: ((0, 0), (3, 2))\n",
            "Maximum Sum of Contiguous Elements: -1\n",
            "Best Submatrix: ((0, 0), (0, 0))\n",
            "Maximum Sum of Contiguous Elements: 18\n",
            "Best Submatrix: ((0, 2), (2, 2))\n",
            "Maximum Sum of Contiguous Elements: 10\n",
            "Best Submatrix: ((0, 0), (1, 1))\n",
            "Maximum Sum of Contiguous Elements: 14\n",
            "Best Submatrix: ((2, 2), (3, 4))\n",
            "Maximum Sum of Contiguous Elements: 15\n",
            "Best Submatrix: ((0, 0), (3, 3))\n",
            "Maximum Sum of Contiguous Elements: 8\n",
            "Best Submatrix: ((0, 0), (3, 1))\n",
            "time: 28.3 ms (started: 2023-12-01 15:02:53 +00:00)\n"
          ]
        }
      ]
    },
    {
      "cell_type": "code",
      "source": [
        "count = []\n",
        "# function to benchmark\n",
        "def task():\n",
        "\n",
        "    for i in range(len(tests)):\n",
        "      matrix = tests[i]\n",
        "      random_submatrix_sum(matrix[\"matrix\"])\n",
        "\n",
        "if __name__ == '__main__':\n",
        "    # run 3 times and record the durations\n",
        "    times = list()\n",
        "    for i in range(10):\n",
        "        count.append(i+1)\n",
        "        # record start time\n",
        "        time_start = perf_counter()\n",
        "        # run the task\n",
        "        task()\n",
        "        # calculate the duration\n",
        "        time_duration = perf_counter() - time_start\n",
        "        # report the duration\n",
        "        print(f'>took {time_duration:.3f} seconds')\n",
        "        # store the duration\n",
        "        times.append(time_duration)\n",
        "    # report the average duration\n",
        "    time_average = sum(times) / 10.0\n",
        "    print(f'Average time {time_average:.3f} seconds')"
      ],
      "metadata": {
        "colab": {
          "base_uri": "https://localhost:8080/"
        },
        "id": "Zm8DBFN_xyfp",
        "outputId": "59ee2a08-2f47-4545-fb9d-ac9770f43173"
      },
      "execution_count": 7,
      "outputs": [
        {
          "output_type": "stream",
          "name": "stdout",
          "text": [
            ">took 0.002 seconds\n",
            ">took 0.003 seconds\n",
            ">took 0.002 seconds\n",
            ">took 0.002 seconds\n",
            ">took 0.002 seconds\n",
            ">took 0.002 seconds\n",
            ">took 0.001 seconds\n",
            ">took 0.001 seconds\n",
            ">took 0.001 seconds\n",
            ">took 0.002 seconds\n",
            "Average time 0.002 seconds\n",
            "time: 25.5 ms (started: 2023-12-01 15:01:34 +00:00)\n"
          ]
        }
      ]
    },
    {
      "cell_type": "code",
      "source": [
        "plt.plot(count,times,label=\"Time taken vs Count\")\n",
        "plt.axhline(y = time_average, color = 'r', linestyle = '--',label=\"Avg time taken\")\n",
        "plt.xlabel(\"Count\")\n",
        "plt.ylabel(\"Time taken in sec\")\n",
        "plt.title('Time taken each time')\n",
        "plt.legend(bbox_to_anchor = (1.0, 1), loc = 'upper center')\n",
        "plt.show()"
      ],
      "metadata": {
        "colab": {
          "base_uri": "https://localhost:8080/",
          "height": 489
        },
        "id": "-sfnLjbOxzF3",
        "outputId": "a493ded0-4183-4c82-d8e0-82992afcb552"
      },
      "execution_count": 8,
      "outputs": [
        {
          "output_type": "display_data",
          "data": {
            "text/plain": [
              "<Figure size 640x480 with 1 Axes>"
            ],
            "image/png": "[encoded data removed]"
          },
          "metadata": {}
        },
        {
          "output_type": "stream",
          "name": "stdout",
          "text": [
            "time: 292 ms (started: 2023-12-01 15:01:40 +00:00)\n"
          ]
        }
      ]
    }
  ]
}