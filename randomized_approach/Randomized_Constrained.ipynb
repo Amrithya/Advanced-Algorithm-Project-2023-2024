{
  "nbformat": 4,
  "nbformat_minor": 0,
  "metadata": {
    "colab": {
      "provenance": []
    },
    "kernelspec": {
      "name": "python3",
      "display_name": "Python 3"
    },
    "language_info": {
      "name": "python"
    }
  },
  "cells": [
    {
      "cell_type": "code",
      "source": [
        "!pip install ipython-autotime\n",
        "%load_ext autotime\n",
        "\n",
        "from matplotlib import pyplot as plt\n",
        "import cProfile\n",
        "import re\n",
        "from time import perf_counter"
      ],
      "metadata": {
        "colab": {
          "base_uri": "https://localhost:8080/"
        },
        "id": "zzte3SBNNdAL",
        "outputId": "fa9725c7-74b8-49be-e82a-e042c5785733"
      },
      "execution_count": 1,
      "outputs": [
        {
          "output_type": "stream",
          "name": "stdout",
          "text": [
            "Collecting ipython-autotime\n",
            "  Downloading ipython_autotime-0.3.2-py2.py3-none-any.whl (7.0 kB)\n",
            "Requirement already satisfied: ipython in /usr/local/lib/python3.10/dist-packages (from ipython-autotime) (7.34.0)\n",
            "Requirement already satisfied: setuptools>=18.5 in /usr/local/lib/python3.10/dist-packages (from ipython->ipython-autotime) (67.7.2)\n",
            "Collecting jedi>=0.16 (from ipython->ipython-autotime)\n",
            "  Downloading jedi-0.19.1-py2.py3-none-any.whl (1.6 MB)\n",
            "\u001b[2K     \u001b[90m━━━━━━━━━━━━━━━━━━━━━━━━━━━━━━━━━━━━━━━━\u001b[0m \u001b[32m1.6/1.6 MB\u001b[0m \u001b[31m6.5 MB/s\u001b[0m eta \u001b[36m0:00:00\u001b[0m\n",
            "\u001b[?25hRequirement already satisfied: decorator in /usr/local/lib/python3.10/dist-packages (from ipython->ipython-autotime) (4.4.2)\n",
            "Requirement already satisfied: pickleshare in /usr/local/lib/python3.10/dist-packages (from ipython->ipython-autotime) (0.7.5)\n",
            "Requirement already satisfied: traitlets>=4.2 in /usr/local/lib/python3.10/dist-packages (from ipython->ipython-autotime) (5.7.1)\n",
            "Requirement already satisfied: prompt-toolkit!=3.0.0,!=3.0.1,<3.1.0,>=2.0.0 in /usr/local/lib/python3.10/dist-packages (from ipython->ipython-autotime) (3.0.41)\n",
            "Requirement already satisfied: pygments in /usr/local/lib/python3.10/dist-packages (from ipython->ipython-autotime) (2.16.1)\n",
            "Requirement already satisfied: backcall in /usr/local/lib/python3.10/dist-packages (from ipython->ipython-autotime) (0.2.0)\n",
            "Requirement already satisfied: matplotlib-inline in /usr/local/lib/python3.10/dist-packages (from ipython->ipython-autotime) (0.1.6)\n",
            "Requirement already satisfied: pexpect>4.3 in /usr/local/lib/python3.10/dist-packages (from ipython->ipython-autotime) (4.8.0)\n",
            "Requirement already satisfied: parso<0.9.0,>=0.8.3 in /usr/local/lib/python3.10/dist-packages (from jedi>=0.16->ipython->ipython-autotime) (0.8.3)\n",
            "Requirement already satisfied: ptyprocess>=0.5 in /usr/local/lib/python3.10/dist-packages (from pexpect>4.3->ipython->ipython-autotime) (0.7.0)\n",
            "Requirement already satisfied: wcwidth in /usr/local/lib/python3.10/dist-packages (from prompt-toolkit!=3.0.0,!=3.0.1,<3.1.0,>=2.0.0->ipython->ipython-autotime) (0.2.10)\n",
            "Installing collected packages: jedi, ipython-autotime\n",
            "Successfully installed ipython-autotime-0.3.2 jedi-0.19.1\n",
            "time: 513 µs (started: 2023-12-01 15:11:08 +00:00)\n"
          ]
        }
      ]
    },
    {
      "cell_type": "code",
      "source": [
        "tests = [\n",
        "    {\n",
        "        \"matrix\": [\n",
        "            [1, 2, -1, -4, -20],\n",
        "            [-8, -3, 4, 2, 1],\n",
        "            [3, 8, 10, 1, 3],\n",
        "            [-4, -1, 1, 7, -6],\n",
        "        ],\n",
        "        \"expected_result\": 29,\n",
        "        \"subarray_indices\": [(1, 1), (3, 3)], #top left and bottom right indices\n",
        "    },\n",
        "\n",
        "    {\n",
        "        \"matrix\": [[1, 2, 3], [4, 5, 6], [7, 8, 9]],\n",
        "        \"expected_result\": 45,\n",
        "        \"subarray_indices\": [(0, 0), (2, 2)],\n",
        "    },\n",
        "    {\n",
        "        \"matrix\": [[-1, -2, -3], [-4, -5, -6], [-7, -8, -9]],\n",
        "        \"expected_result\": -1,\n",
        "        \"subarray_indices\": [(0, 0), (0, 0)],\n",
        "    },\n",
        "    {\n",
        "        \"matrix\": [[1, -2, 3], [4, -5, 6], [7, -8, 9]],\n",
        "        \"expected_result\": 18,\n",
        "        \"subarray_indices\": [(0, 2), (2, 2)],\n",
        "    },\n",
        "    {\n",
        "        \"matrix\": [[1, 2], [3, 4]],\n",
        "        \"expected_result\": 10,\n",
        "        \"subarray_indices\": [(0, 0), (1, 1)],\n",
        "    },\n",
        "    {\n",
        "        \"matrix\": [\n",
        "            [2, -1, 4, -6, 2],\n",
        "            [-3, 2, -1, 4, -3],\n",
        "            [1, -5, 2, -1, 5],\n",
        "            [4, -2, 3, 7, -2],\n",
        "        ],\n",
        "        \"expected_result\": 14,\n",
        "        \"subarray_indices\": [(0, 2), (3, 4)],\n",
        "    },\n",
        "    {\n",
        "        \"matrix\": [[-2, 5, -1, 4], [8, -6, 3, 1], [2, 2, -4, -1], [-3, 2, 6, -1]],\n",
        "        \"expected_result\": 15,\n",
        "        \"subarray_indices\": [(0, 0), (3, 3)],\n",
        "    },\n",
        "    {\n",
        "        \"matrix\": [[1, 2, 3], [4, 5, 6], [7, 8, 9], [10, 11, 12]],\n",
        "        \"expected_result\": 78,\n",
        "        \"subarray_indices\": [(0, 0), (3, 2)],\n",
        "    },\n",
        "    {\n",
        "        \"matrix\": [[-1, -2, -3], [-4, -5, -6], [-7, -8, -9], [-10, -11, -12]],\n",
        "        \"expected_result\": -1,\n",
        "        \"subarray_indices\": [(0, 0), (0, 0)],\n",
        "    },\n",
        "    {\n",
        "        \"matrix\": [[1, -2, 3], [4, -5, 6], [7, -8, 9]],\n",
        "        \"expected_result\": 18,\n",
        "        \"subarray_indices\": [(0, 2), (2, 2)],\n",
        "    },\n",
        "    {\n",
        "        \"matrix\": [[1, 2], [3, 4]],\n",
        "        \"expected_result\": 10,\n",
        "        \"subarray_indices\": [(0, 0), (1, 1)],\n",
        "    },\n",
        "    {\n",
        "        \"matrix\": [[1, 2, 3], [4, 5, 6], [7, 8, 9], [10, 11, 12]],\n",
        "        \"expected_result\": 78,\n",
        "        \"subarray_indices\": [(0, 0), (3, 2)],\n",
        "    },\n",
        "    {\n",
        "        \"matrix\": [[-1, -2, -3], [-4, -5, -6], [-7, -8, -9], [-10, -11, -12]],\n",
        "        \"expected_result\": -1,\n",
        "        \"subarray_indices\": [(0, 0), (0, 0)],\n",
        "    },\n",
        "    {\n",
        "        \"matrix\": [[1, -2, 3],\n",
        "                   [4, -5, 6],\n",
        "                   [7, -8, 9]],\n",
        "        \"expected_result\": 18,\n",
        "        \"subarray_indices\": [(0, 2), (2, 2)],\n",
        "    },\n",
        "    {\n",
        "        \"matrix\": [[1, 2], [3, 4]],\n",
        "        \"expected_result\": 10,\n",
        "        \"subarray_indices\": [(0, 0), (1, 1)],\n",
        "    },\n",
        "    {\n",
        "        \"matrix\": [\n",
        "            [2, -1, 4, -6, 2],\n",
        "            [-3, 2, -1, 4, -3],\n",
        "            [1, -5, 2, -1, 5],\n",
        "            [4, -2, 3, 7, -2],\n",
        "        ],\n",
        "        \"expected_result\": 14,\n",
        "        \"subarray_indices\": [(0, 2), (3, 4)],\n",
        "    },\n",
        "    {\n",
        "        \"matrix\": [\n",
        "            [-2, 5, -1, 4],\n",
        "            [8, -6, 3, 1],\n",
        "            [2, 2, -4, -1],\n",
        "            [-3, 2, 6, -1]],\n",
        "        \"expected_result\": 15,\n",
        "        \"subarray_indices\": [(0, 0), (3, 3)],\n",
        "    },\n",
        "    {\n",
        "        \"matrix\": [[1, 1],\n",
        "                   [1, 1], [1, 1], [1, 1]],\n",
        "        \"expected_result\": 8,\n",
        "        \"subarray_indices\": [(0, 0), (3, 1)],\n",
        "    },\n",
        "]\n"
      ],
      "metadata": {
        "id": "x9xQ4OSBNoCZ",
        "colab": {
          "base_uri": "https://localhost:8080/"
        },
        "outputId": "e411b3ab-283d-409e-85c4-51e2769057fc"
      },
      "execution_count": 2,
      "outputs": [
        {
          "output_type": "stream",
          "name": "stdout",
          "text": [
            "time: 7.43 ms (started: 2023-12-01 15:11:58 +00:00)\n"
          ]
        }
      ]
    },
    {
      "cell_type": "code",
      "source": [
        "import random\n",
        "\n",
        "def random_fixed_size_submatrix_sum(matrix, K, L, num_iterations=100):\n",
        "    M, N = len(matrix), len(matrix[0])\n",
        "    max_sum = float('-inf')\n",
        "    best_submatrix = None\n",
        "\n",
        "    for _ in range(num_iterations):\n",
        "        i1 = random.randint(0, M - K)\n",
        "        j1 = random.randint(0, N - L)\n",
        "        i2 = i1 + K - 1\n",
        "        j2 = j1 + L - 1\n",
        "\n",
        "        current_sum = sum(matrix[i][j] for i in range(i1, i2 + 1) for j in range(j1, j2 + 1))\n",
        "\n",
        "        if current_sum > max_sum:\n",
        "            max_sum = current_sum\n",
        "            best_submatrix = ((i1, j1), (i2, j2))\n",
        "\n",
        "    return max_sum, best_submatrix\n",
        "\n",
        "\n",
        "for i in range(len(tests)):\n",
        "  matrix = tests[i]\n",
        "  K, L = 2, 2\n",
        "  result, best_submatrix = random_fixed_size_submatrix_sum(matrix[\"matrix\"], K, L) # Limiting the iterations to 100\n",
        "  print(\"Maximum Sum of Submatrix of Size\", K, \"x\", L, \":\", result)\n",
        "  print(\"Best Submatrix Coordinates:\", best_submatrix)"
      ],
      "metadata": {
        "colab": {
          "base_uri": "https://localhost:8080/"
        },
        "id": "4jDy3h977SYy",
        "outputId": "81550852-887b-48f3-d23f-c375ea6cf487"
      },
      "execution_count": 4,
      "outputs": [
        {
          "output_type": "stream",
          "name": "stdout",
          "text": [
            "Maximum Sum of Submatrix of Size 2 x 2 : 19\n",
            "Best Submatrix Coordinates: ((2, 2), (3, 3))\n",
            "Maximum Sum of Submatrix of Size 2 x 2 : 28\n",
            "Best Submatrix Coordinates: ((1, 1), (2, 2))\n",
            "Maximum Sum of Submatrix of Size 2 x 2 : -12\n",
            "Best Submatrix Coordinates: ((0, 0), (1, 1))\n",
            "Maximum Sum of Submatrix of Size 2 x 2 : 2\n",
            "Best Submatrix Coordinates: ((0, 1), (1, 2))\n",
            "Maximum Sum of Submatrix of Size 2 x 2 : 10\n",
            "Best Submatrix Coordinates: ((0, 0), (1, 1))\n",
            "Maximum Sum of Submatrix of Size 2 x 2 : 11\n",
            "Best Submatrix Coordinates: ((2, 2), (3, 3))\n",
            "Maximum Sum of Submatrix of Size 2 x 2 : 7\n",
            "Best Submatrix Coordinates: ((0, 2), (1, 3))\n",
            "Maximum Sum of Submatrix of Size 2 x 2 : 40\n",
            "Best Submatrix Coordinates: ((2, 1), (3, 2))\n",
            "Maximum Sum of Submatrix of Size 2 x 2 : -12\n",
            "Best Submatrix Coordinates: ((0, 0), (1, 1))\n",
            "Maximum Sum of Submatrix of Size 2 x 2 : 2\n",
            "Best Submatrix Coordinates: ((0, 1), (1, 2))\n",
            "Maximum Sum of Submatrix of Size 2 x 2 : 10\n",
            "Best Submatrix Coordinates: ((0, 0), (1, 1))\n",
            "Maximum Sum of Submatrix of Size 2 x 2 : 40\n",
            "Best Submatrix Coordinates: ((2, 1), (3, 2))\n",
            "Maximum Sum of Submatrix of Size 2 x 2 : -12\n",
            "Best Submatrix Coordinates: ((0, 0), (1, 1))\n",
            "Maximum Sum of Submatrix of Size 2 x 2 : 2\n",
            "Best Submatrix Coordinates: ((1, 1), (2, 2))\n",
            "Maximum Sum of Submatrix of Size 2 x 2 : 10\n",
            "Best Submatrix Coordinates: ((0, 0), (1, 1))\n",
            "Maximum Sum of Submatrix of Size 2 x 2 : 11\n",
            "Best Submatrix Coordinates: ((2, 2), (3, 3))\n",
            "Maximum Sum of Submatrix of Size 2 x 2 : 7\n",
            "Best Submatrix Coordinates: ((0, 2), (1, 3))\n",
            "Maximum Sum of Submatrix of Size 2 x 2 : 4\n",
            "Best Submatrix Coordinates: ((0, 0), (1, 1))\n",
            "time: 67.4 ms (started: 2023-12-01 15:12:53 +00:00)\n"
          ]
        }
      ]
    },
    {
      "cell_type": "code",
      "source": [
        "count = []\n",
        "# function to benchmark\n",
        "def task():\n",
        "\n",
        "    for i in range(len(tests)):\n",
        "      matrix = tests[i]\n",
        "      K, L = 2, 2\n",
        "      random_fixed_size_submatrix_sum(matrix[\"matrix\"], K, L)\n",
        "\n",
        "if __name__ == '__main__':\n",
        "    # run 3 times and record the durations\n",
        "    times = list()\n",
        "    for i in range(10):\n",
        "        count.append(i+1)\n",
        "        # record start time\n",
        "        time_start = perf_counter()\n",
        "        # run the task\n",
        "        task()\n",
        "        # calculate the duration\n",
        "        time_duration = perf_counter() - time_start\n",
        "        # report the duration\n",
        "        print(f'>took {time_duration:.3f} seconds')\n",
        "        # store the duration\n",
        "        times.append(time_duration)\n",
        "    # report the average duration\n",
        "    time_average = sum(times) / 10.0\n",
        "    print(f'Average time {time_average:.3f} seconds')"
      ],
      "metadata": {
        "colab": {
          "base_uri": "https://localhost:8080/"
        },
        "id": "Zm8DBFN_xyfp",
        "outputId": "8d8d1868-0359-47bd-ee62-f9e1ec9aa33f"
      },
      "execution_count": 8,
      "outputs": [
        {
          "output_type": "stream",
          "name": "stdout",
          "text": [
            ">took 0.011 seconds\n",
            ">took 0.007 seconds\n",
            ">took 0.006 seconds\n",
            ">took 0.006 seconds\n",
            ">took 0.006 seconds\n",
            ">took 0.007 seconds\n",
            ">took 0.006 seconds\n",
            ">took 0.006 seconds\n",
            ">took 0.006 seconds\n",
            ">took 0.006 seconds\n",
            "Average time 0.007 seconds\n",
            "time: 70.8 ms (started: 2023-12-01 15:14:16 +00:00)\n"
          ]
        }
      ]
    },
    {
      "cell_type": "code",
      "source": [
        "plt.plot(count,times,label=\"Time taken vs Count\")\n",
        "plt.axhline(y = time_average, color = 'r', linestyle = '--',label=\"Avg time taken\")\n",
        "plt.xlabel(\"Count\")\n",
        "plt.ylabel(\"Time taken in sec\")\n",
        "plt.title('Time taken each time')\n",
        "plt.legend(bbox_to_anchor = (1.0, 1), loc = 'upper center')\n",
        "plt.show()"
      ],
      "metadata": {
        "colab": {
          "base_uri": "https://localhost:8080/",
          "height": 489
        },
        "id": "-sfnLjbOxzF3",
        "outputId": "d04558f2-d736-443a-dd1e-996d63a574a5"
      },
      "execution_count": 9,
      "outputs": [
        {
          "output_type": "display_data",
          "data": {
            "text/plain": [
              "<Figure size 640x480 with 1 Axes>"
            ],
            "image/png": "[encoded data removed]"
          },
          "metadata": {}
        },
        {
          "output_type": "stream",
          "name": "stdout",
          "text": [
            "time: 1.26 s (started: 2023-12-01 15:14:22 +00:00)\n"
          ]
        }
      ]
    }
  ]
}