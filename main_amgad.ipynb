{
 "cells": [
  {
   "cell_type": "markdown",
   "metadata": {},
   "source": [
    "# Import all the important libraries required"
   ]
  },
  {
   "cell_type": "code",
   "execution_count": null,
   "metadata": {},
   "outputs": [],
   "source": [
    "from brute.brute_force import brute_force_non_constrained, brute_force_constrained\n",
    "from greedy.greedy_algorithm import greedy_algorithm_constrained,greedy_algorithm_non_constrained\n",
    "from test_algorithm import TestAlgorithm\n",
    "import numpy as np\n",
    "import timeit\n"
   ]
  },
  {
   "cell_type": "markdown",
   "metadata": {},
   "source": [
    "### Create an instance of the Test Class\n"
   ]
  },
  {
   "cell_type": "code",
   "execution_count": null,
   "metadata": {},
   "outputs": [],
   "source": [
    "test_algorithm_instance = TestAlgorithm()"
   ]
  },
  {
   "cell_type": "markdown",
   "metadata": {},
   "source": [
    "# Test of the brute force non constrained\n"
   ]
  },
  {
   "cell_type": "code",
   "execution_count": null,
   "metadata": {},
   "outputs": [],
   "source": [
    "size_time, success, fail = test_algorithm_instance.run_algorithm_tests(brute_force_non_constrained, \"Brute Force non Constrained algorithm\")"
   ]
  },
  {
   "cell_type": "markdown",
   "metadata": {},
   "source": [
    "# Test of the greedy algorithm non constrained\n"
   ]
  },
  {
   "cell_type": "code",
   "execution_count": null,
   "metadata": {},
   "outputs": [],
   "source": [
    "size_time, success, fail = test_algorithm_instance.run_algorithm_tests(greedy_algorithm_non_constrained, \"Greedy algorithm non constrained\")"
   ]
  },
  {
   "cell_type": "code",
   "execution_count": null,
   "metadata": {},
   "outputs": [],
   "source": [
    "\n",
    "\n",
    "# start_time = timeit.default_timer()  # Record .the start time\n",
    "# result, top_left, bottom_right = greedy_algorithm_non_constrained(np.random.randint(-50,50,(100,1000)))\n",
    "# end_time = timeit.default_timer()  # Record the end time\n",
    "# execution_time = end_time-start_time\n",
    "# print(result, top_left, bottom_right,\"execution time:\", execution_time)\n",
    "\n",
    "\n",
    "\n",
    "# # test_algorithm_instance.run_algorithm_tests(greedy_algorithm_non_constrained, \"Greedy_algorithm_non_constrained\")\n",
    "\n",
    "\n"
   ]
  }
 ],
 "metadata": {
  "kernelspec": {
   "display_name": "DataScience",
   "language": "python",
   "name": "python3"
  },
  "language_info": {
   "codemirror_mode": {
    "name": "ipython",
    "version": 3
   },
   "file_extension": ".py",
   "mimetype": "text/x-python",
   "name": "python",
   "nbconvert_exporter": "python",
   "pygments_lexer": "ipython3",
   "version": "3.9.18"
  }
 },
 "nbformat": 4,
 "nbformat_minor": 2
}
