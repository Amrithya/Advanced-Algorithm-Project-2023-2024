{
 "cells": [
  {
   "cell_type": "markdown",
   "metadata": {},
   "source": [
    "## Greedy Algorithm non constrained"
   ]
  },
  {
   "cell_type": "code",
   "execution_count": null,
   "metadata": {},
   "outputs": [],
   "source": [
    "\"\"\"helper function which is kadane's algorithm for getting the maxmimum sub array in 1D\"\"\"\n",
    "def max_subarray_sum_1d_with_indices(arr): # kadane algorithm \n",
    "    max_sum = float('-inf')\n",
    "    current_sum = 0\n",
    "    current_start = temp_start = temp_end = 0\n",
    "\n",
    "    for i, num in enumerate(arr):\n",
    "        if current_sum + num < num:\n",
    "            current_sum = num\n",
    "            current_start = i\n",
    "        else:\n",
    "            current_sum += num\n",
    "\n",
    "        if current_sum > max_sum:\n",
    "            max_sum = current_sum\n",
    "            temp_start = current_start\n",
    "            temp_end = i\n",
    "\n",
    "    return max_sum, temp_start, temp_end\n"
   ]
  },
  {
   "cell_type": "code",
   "execution_count": null,
   "metadata": {},
   "outputs": [],
   "source": [
    "def max_subarray_sum_2d_with_indices(matrix):\n",
    "    rows = len(matrix)\n",
    "    cols = len(matrix[0]) if rows > 0 else 0\n",
    "\n",
    "    max_sum = float('-inf')\n",
    "    start_row = end_row = start_col = end_col = -1\n",
    "\n",
    "    for left in range(cols):\n",
    "        temp = [0] * rows\n",
    "        for right in range(left, cols):\n",
    "            for i in range(rows):\n",
    "                temp[i] += matrix[i][right]\n",
    "                print(\"left:\", left, \"temp:\",temp,\"right:\",right,)\n",
    "            current_sum, current_start_row, current_end_row = max_subarray_sum_1d_with_indices(temp)\n",
    "            print('current sum:',current_sum, 'current start row:',current_start_row, 'current end row:',current_end_row)\n",
    "            if current_sum > max_sum:\n",
    "                max_sum = current_sum\n",
    "                start_row, end_row, start_col, end_col = current_start_row, current_end_row, left, right\n",
    "\n",
    "    return max_sum, (start_row, start_col), (end_row, end_col)\n",
    "\n",
    "\n",
    "# Example usage:\n",
    "matrix = [\n",
    "                   \n",
    "            [1, 2, -1, -4, -20],\n",
    "            [-8, -3, 4, 2, 1],\n",
    "            [3, 8, 10, 1, 3],\n",
    "            [-4, -1, 1, 7, -6],\n",
    "        ]\n",
    "\n",
    "result, start_index, end_index = max_subarray_sum_2d_with_indices(matrix)\n",
    "print(\"Maximum Subarray Sum in 2D matrix:\", result)\n",
    "print(\"Indices of the subarray matrix (top, left):\", start_index)\n",
    "print(\"Indices of the subarray matrix (bottom, right):\", end_index)\n"
   ]
  },
  {
   "cell_type": "markdown",
   "metadata": {},
   "source": [
    "## Constrained Greedy algorithm"
   ]
  },
  {
   "cell_type": "code",
   "execution_count": null,
   "metadata": {},
   "outputs": [],
   "source": [
    "def max_subarray_sum_2d_with_indices_constrained(matrix, k, l):\n",
    "    rows = len(matrix)\n",
    "    cols = len(matrix[0]) if rows > 0 else 0\n",
    "\n",
    "    max_sum = float('-inf')\n",
    "    start_row = end_row = start_col = end_col = -1\n",
    "\n",
    "    for left in range(cols - l + 1):\n",
    "        for top in range(rows - k + 1):\n",
    "            temp = [0] * k\n",
    "            for right in range(left, left + l):\n",
    "                for i in range(top, top + k):\n",
    "                    temp[i - top] += matrix[i][right]\n",
    "                    print('left:', left, 'right:',right, 'temp:',temp,'i:',i)\n",
    "            current_sum, current_start_row, current_end_row = max_subarray_sum_1d_with_indices(temp)\n",
    "            print(\"start\",current_start_row, \"end\",current_end_row, )\n",
    "            \n",
    "            if current_sum > max_sum:\n",
    "                max_sum = current_sum\n",
    "                start_row, end_row, start_col, end_col = current_start_row + top, current_end_row + top, left, left + l - 1\n",
    "    \n",
    "    return max_sum, (start_row, start_col), (end_row, end_col)\n",
    "\n",
    "\n",
    "\n",
    "# Example usage:\n",
    "matrix = [[1, -2, 3], [4, -5, 6], [7, -8, 9]]\n",
    "\n",
    "result, start_index, end_index = max_subarray_sum_2d_with_indices_constrained(matrix,3,1)\n",
    "print(\"Maximum Subarray Sum in 2D matrix:\", result)\n",
    "print(\"Indices of the subarray matrix (top, left):\", start_index)\n",
    "print(\"Indices of the subarray matrix (bottom, right):\", end_index)\n"
   ]
  }
 ],
 "metadata": {
  "kernelspec": {
   "display_name": "DataScience",
   "language": "python",
   "name": "python3"
  },
  "language_info": {
   "codemirror_mode": {
    "name": "ipython",
    "version": 3
   },
   "file_extension": ".py",
   "mimetype": "text/x-python",
   "name": "python",
   "nbconvert_exporter": "python",
   "pygments_lexer": "ipython3",
   "version": "3.9.18"
  }
 },
 "nbformat": 4,
 "nbformat_minor": 2
}
