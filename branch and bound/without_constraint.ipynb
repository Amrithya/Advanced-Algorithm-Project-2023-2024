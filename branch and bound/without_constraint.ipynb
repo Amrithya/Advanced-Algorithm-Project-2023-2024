{
 "cells": [
  {
   "cell_type": "code",
   "execution_count": 1,
   "id": "26f96960",
   "metadata": {},
   "outputs": [
    {
     "name": "stdout",
     "output_type": "stream",
     "text": [
      "Original matrix:\n",
      " [[  1   2  -1  -4 -20]\n",
      " [ -8  -3   4   2   1]\n",
      " [  3   8  10   1   3]\n",
      " [ -4  -1   1   7  -6]]\n",
      "Largest sum subarray:\n",
      " [[-3  4  2]\n",
      " [ 8 10  1]\n",
      " [-1  1  7]]\n",
      "Total sum: 29\n",
      "Coordinates (i1,j1), (i2,j2) of the submatrix: (2, 4) (2, 4)\n"
     ]
    },
    {
     "name": "stderr",
     "output_type": "stream",
     "text": [
      "C:\\Users\\annak\\anaconda3\\lib\\site-packages\\numpy\\_distributor_init.py:30: UserWarning: loaded more than 1 DLL from .libs:\n",
      "C:\\Users\\annak\\anaconda3\\lib\\site-packages\\numpy\\.libs\\libopenblas.FB5AE2TYXYH2IJRDKGDGQ3XBKLKTF43H.gfortran-win_amd64.dll\n",
      "C:\\Users\\annak\\anaconda3\\lib\\site-packages\\numpy\\.libs\\libopenblas.XWYDX2IKJW2NMTWSFYNGFUWKQU3LYTCZ.gfortran-win_amd64.dll\n",
      "  warnings.warn(\"loaded more than 1 DLL from .libs:\"\n"
     ]
    }
   ],
   "source": [
    "import numpy as np\n",
    "from collections import deque\n",
    "\n",
    "def sub_mat(A, i1, i2, j1, j2):\n",
    "    return (A[i1:i2+1, j1:j2+1])\n",
    "\n",
    "def validity(row, col, i1, i2, j1, j2):\n",
    "    a = (i1 <= i2) and (j1 <= j2) and (i1 >= 0) and (i2 < row) and (j1 >= 0) and (j1 < col)\n",
    "    return(a)\n",
    "\n",
    "def child_node(child):\n",
    "    row, col, i1, i2, j1, j2 = child\n",
    "    children = []\n",
    "    if validity(row, col, i1+1, i2, j1, j2):\n",
    "        children.append((row, col, i1+1, i2, j1, j2))\n",
    "\n",
    "    if validity(row, col, i1, i2-1, j1, j2):\n",
    "        children.append((row, col, i1, i2-1, j1, j2))\n",
    "\n",
    "    if validity(row, col, i1, i2, j1+1, j2):\n",
    "        children.append((row, col, i1, i2, j1+1, j2))\n",
    "\n",
    "    if validity(row, col, i1, i2, j1, j2-1):\n",
    "        children.append((row, col, i1, i2, j1, j2-1))\n",
    "\n",
    "    return children\n",
    "\n",
    "def max_sub_mat(matrix):\n",
    "    row = len(matrix)\n",
    "    col = len(matrix[0])\n",
    "    max_sum = -np.inf\n",
    "    max_sub_mat = None\n",
    "    \n",
    "    q = deque()\n",
    "    \n",
    "    q.append((np.sum(matrix), (row, col, 0, row-1, 0, col-1)))\n",
    "    \n",
    "    while q:\n",
    "        _, nod = q.popleft()\n",
    "        \n",
    "        if not validity(*nod):\n",
    "            continue\n",
    "\n",
    "        nod_sum = np.sum(matrix[nod[2]:nod[3]+1, nod[4]:nod[5]+1])\n",
    "\n",
    "        if nod_sum > max_sum:\n",
    "            max_sum = nod_sum\n",
    "            max_sub_mat = nod\n",
    "        \n",
    "        for c in child_node(nod):\n",
    "            \n",
    "            c_sum = np.sum(matrix[c[2]:c[3]+1, c[4]:c[5]+1])\n",
    "\n",
    "            if c_sum > max_sum:\n",
    "                q.append((c_sum, c)) \n",
    "            \n",
    "    print(\"Original matrix:\\n\", matrix)\n",
    "    print(\"Largest sum subarray:\\n\", matrix[max_sub_mat[2]:max_sub_mat[3]+1,max_sub_mat[4]:max_sub_mat[5]+1])\n",
    "    print(\"Total sum:\", max_sum)\n",
    "    print(\"Coordinates (i1,j1), (i2,j2) of the submatrix:\", (max_sub_mat[2]+1, max_sub_mat[3]+1), (max_sub_mat[4]+1, max_sub_mat[5]+1))\n",
    "\n",
    "A = np.array([[1, 2, -1, -4, -20],\n",
    "              [-8, -3, 4, 2, 1],\n",
    "              [3, 8, 10, 1, 3],\n",
    "              [-4, -1, 1, 7, -6]])\n",
    "max_sub_mat(A)"
   ]
  },
  {
   "cell_type": "code",
   "execution_count": null,
   "id": "eabc1580",
   "metadata": {},
   "outputs": [],
   "source": []
  }
 ],
 "metadata": {
  "kernelspec": {
   "display_name": "Python 3 (ipykernel)",
   "language": "python",
   "name": "python3"
  },
  "language_info": {
   "codemirror_mode": {
    "name": "ipython",
    "version": 3
   },
   "file_extension": ".py",
   "mimetype": "text/x-python",
   "name": "python",
   "nbconvert_exporter": "python",
   "pygments_lexer": "ipython3",
   "version": "3.8.8"
  }
 },
 "nbformat": 4,
 "nbformat_minor": 5
}
