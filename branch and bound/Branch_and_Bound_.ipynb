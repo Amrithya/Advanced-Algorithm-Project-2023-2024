{
  "nbformat": 4,
  "nbformat_minor": 0,
  "metadata": {
    "colab": {
      "provenance": []
    },
    "kernelspec": {
      "name": "python3",
      "display_name": "Python 3"
    },
    "language_info": {
      "name": "python"
    }
  },
  "cells": [
    {
      "cell_type": "code",
      "execution_count": 7,
      "metadata": {
        "id": "tEQB1xAcD16e"
      },
      "outputs": [],
      "source": [
        "import numpy as np\n",
        "import math\n",
        "from collections import deque\n",
        "\n",
        "def positive_sum(matrix):\n",
        "    s= 0\n",
        "    for row in matrix:\n",
        "        for i in row:\n",
        "            if i > 0:\n",
        "                s += i\n",
        "\n",
        "    return s\n",
        "\n",
        "\n",
        "def max_segment_branch_and_bound(matrix):\n",
        "    m = matrix.shape[0]\n",
        "    n = matrix.shape[1]\n",
        "    initial_partial = ([0, m-1, 0, n-1], np.sum(matrix))\n",
        "    initial_best = positive_sum(matrix)\n",
        "\n",
        "    def valid(i1, i2, j1, j2):\n",
        "        return i1 <= i2 and j1 <= j2 and i1 >= 0 and i2 < m and j1 >= 0 and j2 < n\n",
        "\n",
        "    def matrix_sub_sum(i1, i2, j1, j2):\n",
        "        return np.sum(matrix[i1:i2+1, j1:j2+1])\n",
        "\n",
        "    def positive_sub_sum(i1, i2, j1, j2):\n",
        "        s = 0\n",
        "        for i in range(i1, i2+1):\n",
        "            for j in range(j1, j2+1):\n",
        "                if matrix[i, j] > 0:\n",
        "                    s += matrix[i, j]\n",
        "        return s\n",
        "\n",
        "    def generate_children(partial, best):\n",
        "        i1, i2, j1, j2 = partial[0]\n",
        "        children = []\n",
        "\n",
        "        if valid(i1+1, i2, j1, j2):\n",
        "            children.append([((i1+1, i2, j1, j2), matrix_sub_sum(i1+1, i2, j1, j2)), positive_sub_sum(i1+1, i2, j1, j2)])\n",
        "\n",
        "        if valid(i1, i2-1, j1, j2):\n",
        "            children.append([((i1, i2-1, j1, j2), matrix_sub_sum(i1, i2-1, j1, j2)), positive_sub_sum(i1, i2-1, j1, j2)])\n",
        "\n",
        "        if valid(i1, i2, j1+1, j2):\n",
        "            children.append([((i1, i2, j1+1, j2), matrix_sub_sum(i1, i2, j1+1, j2)), positive_sub_sum(i1, i2, j1+1, j2)])\n",
        "\n",
        "        if valid(i1, i2, j1, j2-1):\n",
        "            children.append([((i1, i2, j1, j2-1), matrix_sub_sum(i1, i2, j1, j2-1)), positive_sub_sum(i1, i2, j1, j2-1)])\n",
        "        return children\n",
        "\n",
        "    q = deque([(initial_partial, initial_best)])\n",
        "\n",
        "    while q:\n",
        "        current_partial, current_best = q.popleft()\n",
        "\n",
        "        for child in generate_children(current_partial, current_best):\n",
        "            if child[1] > initial_partial[1]:\n",
        "                q.append(child)\n",
        "                if child[0][1] > initial_partial[1]:\n",
        "                    initial_partial = child[0]\n",
        "\n",
        "    print(\"Original matrix:\\n\", matrix)\n",
        "    print(\"Largest sum subarray:\\n\", matrix[initial_partial[0][0]:initial_partial[0][1] + 1,initial_partial[0][2]:initial_partial[0][3] + 1])\n",
        "    print(\"Total sum:\", initial_partial[1])\n",
        "    print(\"Coordinates (i1,j1), (i2,j2) of the submatrix:\", (initial_partial[0][0] + 1, initial_partial[0][1] + 1,initial_partial[0][2] + 1,initial_partial[0][3] + 1))\n"
      ]
    },
    {
      "cell_type": "code",
      "source": [
        "A = np.array([[1, 2, -1, -4, -20],\n",
        "              [-8, -3, 4, 2, 1],\n",
        "              [3, 8, 10, 1, 3],\n",
        "              [-4, -1, 1, 7, -6]])\n",
        "max_segment_branch_and_bound(A)\n"
      ],
      "metadata": {
        "colab": {
          "base_uri": "https://localhost:8080/"
        },
        "id": "kc6b-fP8FcGT",
        "outputId": "76c9f79f-0b35-43b6-f5b6-94af1e98cd8a"
      },
      "execution_count": 8,
      "outputs": [
        {
          "output_type": "stream",
          "name": "stdout",
          "text": [
            "Original matrix:\n",
            " [[  1   2  -1  -4 -20]\n",
            " [ -8  -3   4   2   1]\n",
            " [  3   8  10   1   3]\n",
            " [ -4  -1   1   7  -6]]\n",
            "Largest sum subarray:\n",
            " [[-3  4  2]\n",
            " [ 8 10  1]\n",
            " [-1  1  7]]\n",
            "Total sum: 29\n",
            "Coordinates (i1,j1), (i2,j2) of the submatrix: (2, 4, 2, 4)\n"
          ]
        }
      ]
    },
    {
      "cell_type": "code",
      "source": [],
      "metadata": {
        "id": "XTMu1psVI-fZ"
      },
      "execution_count": null,
      "outputs": []
    }
  ]
}