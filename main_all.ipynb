{
 "cells": [
  {
   "cell_type": "code",
   "execution_count": 1,
   "metadata": {},
   "outputs": [
    {
     "ename": "ImportError",
     "evalue": "cannot import name 'constrained_tests_variable_K_L' from 'test_samples.test_constraint_variable_K_L' (g:\\My Drive\\Classes\\Advanced Algorithms\\fixed_project\\Advanced-Algorithm-Project-2023-2024\\test_samples\\test_constraint_variable_K_L.py)",
     "output_type": "error",
     "traceback": [
      "\u001b[1;31m---------------------------------------------------------------------------\u001b[0m",
      "\u001b[1;31mImportError\u001b[0m                               Traceback (most recent call last)",
      "\u001b[1;32mg:\\My Drive\\Classes\\Advanced Algorithms\\fixed_project\\Advanced-Algorithm-Project-2023-2024\\main_all.ipynb Cell 1\u001b[0m line \u001b[0;36m4\n\u001b[0;32m      <a href='vscode-notebook-cell:/g%3A/My%20Drive/Classes/Advanced%20Algorithms/fixed_project/Advanced-Algorithm-Project-2023-2024/main_all.ipynb#W1sZmlsZQ%3D%3D?line=1'>2</a>\u001b[0m \u001b[39mfrom\u001b[39;00m \u001b[39mgreedy\u001b[39;00m\u001b[39m.\u001b[39;00m\u001b[39mgreedy_algorithm\u001b[39;00m \u001b[39mimport\u001b[39;00m greedy_algorithm_non_constrained\n\u001b[0;32m      <a href='vscode-notebook-cell:/g%3A/My%20Drive/Classes/Advanced%20Algorithms/fixed_project/Advanced-Algorithm-Project-2023-2024/main_all.ipynb#W1sZmlsZQ%3D%3D?line=2'>3</a>\u001b[0m \u001b[39mfrom\u001b[39;00m \u001b[39mdynamic_programming\u001b[39;00m\u001b[39m.\u001b[39;00m\u001b[39mdynamic_programming\u001b[39;00m \u001b[39mimport\u001b[39;00m maxMatrixSum_non_constraint\n\u001b[1;32m----> <a href='vscode-notebook-cell:/g%3A/My%20Drive/Classes/Advanced%20Algorithms/fixed_project/Advanced-Algorithm-Project-2023-2024/main_all.ipynb#W1sZmlsZQ%3D%3D?line=3'>4</a>\u001b[0m \u001b[39mfrom\u001b[39;00m \u001b[39mtest_class\u001b[39;00m\u001b[39m.\u001b[39;00m\u001b[39mtest_algorithm\u001b[39;00m \u001b[39mimport\u001b[39;00m TestAlgorithm\n\u001b[0;32m      <a href='vscode-notebook-cell:/g%3A/My%20Drive/Classes/Advanced%20Algorithms/fixed_project/Advanced-Algorithm-Project-2023-2024/main_all.ipynb#W1sZmlsZQ%3D%3D?line=4'>5</a>\u001b[0m \u001b[39mfrom\u001b[39;00m \u001b[39mbranch_and_bound\u001b[39;00m\u001b[39m.\u001b[39;00m\u001b[39mbranch_and_bound_non_constrainred_final\u001b[39;00m \u001b[39mimport\u001b[39;00m max_segment_branch_and_bound\n\u001b[0;32m      <a href='vscode-notebook-cell:/g%3A/My%20Drive/Classes/Advanced%20Algorithms/fixed_project/Advanced-Algorithm-Project-2023-2024/main_all.ipynb#W1sZmlsZQ%3D%3D?line=5'>6</a>\u001b[0m \u001b[39mfrom\u001b[39;00m \u001b[39mant_colony_approach\u001b[39;00m\u001b[39m.\u001b[39;00m\u001b[39mant_colony_algorithm_no_constraint\u001b[39;00m \u001b[39mimport\u001b[39;00m  ant_colony_algorithm \n",
      "File \u001b[1;32mg:\\My Drive\\Classes\\Advanced Algorithms\\fixed_project\\Advanced-Algorithm-Project-2023-2024\\test_class\\test_algorithm.py:4\u001b[0m\n\u001b[0;32m      2\u001b[0m \u001b[39mimport\u001b[39;00m \u001b[39mtimeit\u001b[39;00m\n\u001b[0;32m      3\u001b[0m \u001b[39mfrom\u001b[39;00m \u001b[39mtest_samples\u001b[39;00m\u001b[39m.\u001b[39;00m\u001b[39mtest_non_constraint\u001b[39;00m \u001b[39mimport\u001b[39;00m non_constrained_tests \n\u001b[1;32m----> 4\u001b[0m \u001b[39mfrom\u001b[39;00m \u001b[39mtest_samples\u001b[39;00m\u001b[39m.\u001b[39;00m\u001b[39mtest_constraint_variable_K_L\u001b[39;00m \u001b[39mimport\u001b[39;00m constrained_tests_variable_K_L \n\u001b[0;32m      5\u001b[0m \u001b[39mfrom\u001b[39;00m \u001b[39mtest_samples\u001b[39;00m\u001b[39m.\u001b[39;00m\u001b[39mtest_constraint_fixed_K_L\u001b[39;00m \u001b[39mimport\u001b[39;00m constrained_tests_fixed_K_L \n\u001b[0;32m      7\u001b[0m \u001b[39mfrom\u001b[39;00m \u001b[39mbrute\u001b[39;00m\u001b[39m.\u001b[39;00m\u001b[39mhelpers\u001b[39;00m \u001b[39mimport\u001b[39;00m print_submatrix, calculate_subarray_sum\n",
      "\u001b[1;31mImportError\u001b[0m: cannot import name 'constrained_tests_variable_K_L' from 'test_samples.test_constraint_variable_K_L' (g:\\My Drive\\Classes\\Advanced Algorithms\\fixed_project\\Advanced-Algorithm-Project-2023-2024\\test_samples\\test_constraint_variable_K_L.py)"
     ]
    }
   ],
   "source": [
    "from brute.brute_force import brute_force_non_constrained\n",
    "from greedy.greedy_algorithm import greedy_algorithm_non_constrained\n",
    "from dynamic_programming.dynamic_programming import maxMatrixSum_non_constraint\n",
    "from test_class.test_algorithm import TestAlgorithm\n",
    "from branch_and_bound.branch_and_bound_non_constrainred_final import max_segment_branch_and_bound\n",
    "from ant_colony_approach.ant_colony_algorithm_no_constraint import  ant_colony_algorithm \n",
    "from randomized_approach.gradient_unconstrained import find_max_sum_submatrix\n",
    "from genetic_algorithm.genetic_algorithm_no_constraint import max_segment_2d_genetic \n",
    "import numpy as np\n",
    "import timeit\n"
   ]
  },
  {
   "cell_type": "code",
   "execution_count": null,
   "metadata": {},
   "outputs": [],
   "source": [
    "test_algorithm_instance = TestAlgorithm()"
   ]
  },
  {
   "cell_type": "code",
   "execution_count": null,
   "metadata": {},
   "outputs": [],
   "source": [
    "\n",
    "import matplotlib.pyplot as plt\n",
    "import seaborn as sns\n",
    "import numpy as np\n",
    "import pandas as pd\n",
    "\n",
    "# Assuming you have a function to run your algorithm tests\n",
    "# def run_algorithm_tests(algorithm, name):\n",
    "#     # Implementation of running the test and collecting results\n",
    "#     pass\n",
    "\n",
    "def run_multiple_algorithms(algorithms):\n",
    "    all_results = {}\n",
    "    for algorithm, name in algorithms:\n",
    "        results = run_algorithm_tests(algorithm, name)\n",
    "        all_results[name] = results\n",
    "            return all_results\n",
    "\n",
    "def create_comparative_plots(all_results):\n",
    "    # Create a DataFrame for comparative plotting\n",
    "    plot_data = []\n",
    "    for name, results in all_results.items():\n",
    "        for time, size in results['size_run_time_test']:\n",
    "            plot_data.append({\n",
    "                'Algorithm': name,\n",
    "                'Execution Time': time,\n",
    "                'Number of Elements': size\n",
    "            })\n",
    "\n",
    "    df = pd.DataFrame(plot_data)\n",
    "\n",
    "    # Set seaborn style and context\n",
    "    sns.set_style(\"whitegrid\")\n",
    "    sns.set_context(\"talk\")\n",
    "\n",
    "    # Comparative Line Plot for Execution Time vs Number of Elements\n",
    "    plt.figure(figsize=(10, 6))\n",
    "    sns.lineplot(x='Number of Elements', y='Execution Time', hue='Algorithm', data=df)\n",
    "    plt.title('Algorithm Performance Comparison')\n",
    "    plt.xlabel('Number of Elements')\n",
    "    plt.ylabel('Execution Time')\n",
    "    plt.legend(title='Algorithm')\n",
    "    plt.show()\n",
    "\n",
    "# Example usage\n",
    "algorithms_to_test = [\n",
    "    (algorithm1, 'Algorithm 1 Name'),\n",
    "    (algorithm2, 'Algorithm 2 Name'),\n",
    "    # Add more algorithms here\n",
    "]\n",
    "\n",
    "all_test_results = run_multiple_algorithms(algorithms_to_test)\n",
    "create_comparative_plots(all_test_results)\n"
   ]
  }
 ],
 "metadata": {
  "kernelspec": {
   "display_name": "DataScience",
   "language": "python",
   "name": "python3"
  },
  "language_info": {
   "codemirror_mode": {
    "name": "ipython",
    "version": 3
   },
   "file_extension": ".py",
   "mimetype": "text/x-python",
   "name": "python",
   "nbconvert_exporter": "python",
   "pygments_lexer": "ipython3",
   "version": "3.9.18"
  }
 },
 "nbformat": 4,
 "nbformat_minor": 2
}
