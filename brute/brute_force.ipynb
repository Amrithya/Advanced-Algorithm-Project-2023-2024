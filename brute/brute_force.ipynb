{
 "cells": [
  {
   "cell_type": "code",
   "execution_count": null,
   "metadata": {},
   "outputs": [],
   "source": [
    "'''this is a helper function that will compute the sum of a subarray within a 2D matrix\n",
    " giving it the top lef and bottom right indices'''\n",
    "def calculate_subarray_sum(matrix, top, left, bottom, right):\n",
    "    subarray_sum = 0\n",
    "    for i in range(top, bottom + 1): # Loop to find the sum of elements in the rectangle\n",
    "        for j in range(left, right + 1): # Loop for all possible points of the rectangle\n",
    "            subarray_sum += matrix[i][j] \n",
    "    return subarray_sum"
   ]
  },
  {
   "cell_type": "code",
   "execution_count": null,
   "metadata": {},
   "outputs": [],
   "source": [
    "'''this is a helper function that will compute the sum of a subarray within a 2D matrix\n",
    " giving it the top lef and bottom right indices'''\n",
    "def print_submatrix(matrix, top, left, bottom, right):\n",
    "        \n",
    "    print('\\nSubmatrix')\n",
    "    for i in range(top, bottom +1):\n",
    "        for j in range(left, right +1):\n",
    "            print(matrix[i][j], end=\"\\t\")\n",
    "        print()\n",
    "    print()\n"
   ]
  },
  {
   "cell_type": "markdown",
   "metadata": {},
   "source": [
    "### Brute Force polynmomial $O(M^3 * N^3)$ <br> where $M$ is the number of rows and $N$ is the numbr of columns in the given matrix."
   ]
  },
  {
   "cell_type": "code",
   "execution_count": null,
   "metadata": {},
   "outputs": [],
   "source": [
    "def max_subarray_2d_polynomial(matrix):\n",
    "    rows, cols = len(matrix), len(matrix[0])\n",
    "    max_sum = float('-inf')\n",
    "    top_left = bottom_right = (0, 0)  # Initialize with the first element\n",
    "    print('matrix:'),\n",
    "    for i in matrix:\n",
    "        print(i)\n",
    "\n",
    "    for i in range(rows):# Loop for top row position in the rectangle\n",
    "        for j in range(cols): # Loop for left column position of the rectangle\n",
    "            for k in range(i, rows):# Loop for bottom row in the rectangle\n",
    "                for l in range(j, cols):# Loop for right column in the rectangle\n",
    "                    # print((\"i= \",i,\"j=\",j, \"k=\", k, \"l=\",l))\n",
    "                    # print_submatrix(matrix, i, j, k, l)\n",
    "                    current_sum = calculate_subarray_sum(matrix, i, j, k, l)\n",
    "                    if current_sum > max_sum:\n",
    "                        max_sum = current_sum\n",
    "                        top_left = (i, j)\n",
    "                        bottom_right = (k, l)\n",
    "                        # print('current_sum = ',current_sum, 'max_sum = ',max_sum, ' top_left = ',top_left, ' bottom_right = ', bottom_right,)\n",
    "    print_submatrix(matrix, top_left[0],top_left[1],bottom_right[0],bottom_right[1])\n",
    "    return max_sum, top_left, bottom_right,\n",
    "\n",
    "\n",
    "# Example usage:\n",
    "matrix = [\n",
    "            [1, 2, -1, -4, -20],\n",
    "            [-8, -3, 4, 2, 1],\n",
    "            [3, 8, 10, 1, 3],\n",
    "            [-4, -1, 1, 7, -6],\n",
    "        ]\n",
    "\n",
    "result, top_left, bottom_right = max_subarray_2d_polynomial(matrix)\n",
    "print(\"Maximum Subarray Sum:\", result)\n",
    "print(\"Top Left Index:\", top_left)\n",
    "print(\"Bottom Right Index:\", bottom_right)\n",
    "\n",
    "\n",
    "\n",
    "\n",
    "\n",
    "\n"
   ]
  },
  {
   "cell_type": "markdown",
   "metadata": {},
   "source": [
    "## Brute Force constrained"
   ]
  },
  {
   "cell_type": "code",
   "execution_count": null,
   "metadata": {},
   "outputs": [],
   "source": [
    "def max_subarray_2d_polynomial_constrained(matrix,K,L):\n",
    "    rows, cols = len(matrix), len(matrix[0])\n",
    "    max_sum = float('-inf')\n",
    "    top_left = bottom_right = (0, 0)  # Initialize with the first element\n",
    "    print('matrix:'),\n",
    "    for i in matrix:\n",
    "        print(i)\n",
    "\n",
    "    for i in range(rows):# Loop for top row position in the rectangle\n",
    "        for j in range(cols): # Loop for left column position of the rectangle\n",
    "            for k in range(i, rows):# Loop for bottom row in the rectangle\n",
    "                for l in range(j, cols):# Loop for right column in the rectangle\n",
    "                    # print((\"i= \",i,\"j=\",j, \"k=\", k, \"l=\",l))\n",
    "                    # print_submatrix(matrix, i, j, k, l)\n",
    "                    if (k-i+1 == K and l-j+1 == L):\n",
    "                        current_sum = calculate_subarray_sum(matrix, i, j, k, l)\n",
    "                    \n",
    "                        if current_sum > max_sum:\n",
    "                            max_sum = current_sum\n",
    "                            top_left = (i, j)\n",
    "                            bottom_right = (k, l)\n",
    "                        # print('current_sum = ',current_sum, 'max_sum = ',max_sum, ' top_left = ',top_left, ' bottom_right = ', bottom_right,)\n",
    "    print_submatrix(matrix, top_left[0],top_left[1],bottom_right[0],bottom_right[1])\n",
    "    return max_sum, top_left, bottom_right,\n",
    "\n",
    "\n",
    "# Example usage:\n",
    "matrix = [\n",
    "            [1, 2, -1, -4, -20],\n",
    "            [-8, -3, 4, 2, 1],\n",
    "            [3, 8, 10, 1, 3],\n",
    "            [-4, -1, 1, 7, -6],\n",
    "        ]\n",
    "\n",
    "result, top_left, bottom_right = max_subarray_2d_polynomial_constrained(matrix, 1,1)\n",
    "print(\"Maximum Subarray Sum:\", result)\n",
    "print(\"Top Left Index:\", top_left)\n",
    "print(\"Bottom Right Index:\", bottom_right)\n",
    "\n",
    "\n",
    "\n",
    "\n",
    "\n",
    "\n"
   ]
  }
 ],
 "metadata": {
  "kernelspec": {
   "display_name": "DataScience",
   "language": "python",
   "name": "python3"
  },
  "language_info": {
   "codemirror_mode": {
    "name": "ipython",
    "version": 3
   },
   "file_extension": ".py",
   "mimetype": "text/x-python",
   "name": "python",
   "nbconvert_exporter": "python",
   "pygments_lexer": "ipython3",
   "version": "3.9.18"
  }
 },
 "nbformat": 4,
 "nbformat_minor": 2
}
