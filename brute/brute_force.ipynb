{
 "cells": [
  {
   "cell_type": "markdown",
   "metadata": {},
   "source": [
    "# brute force"
   ]
  },
  {
   "cell_type": "code",
   "execution_count": null,
   "metadata": {},
   "outputs": [],
   "source": [
    "def max_subarray_2d_bruteforce(matrix):\n",
    "    rows, cols = len(matrix), len(matrix[0])\n",
    "    max_sum = float('-inf')\n",
    "    top_left = bottom_right = (0, 0)  # Initialize with the first element\n",
    "\n",
    "    for i in range(rows):\n",
    "        for j in range(cols):\n",
    "            for k in range(i, rows):\n",
    "                for l in range(j, cols):\n",
    "                    current_sum = calculate_subarray_sum(matrix, i, j, k, l)\n",
    "                    if current_sum > max_sum:\n",
    "                        max_sum = current_sum\n",
    "                        top_left = (i, j)\n",
    "                        bottom_right = (k, l)\n",
    "\n",
    "    return max_sum, top_left, bottom_right\n",
    "\n",
    "def calculate_subarray_sum(matrix, top, left, bottom, right):\n",
    "    subarray_sum = 0\n",
    "    for i in range(top, bottom + 1):\n",
    "        for j in range(left, right + 1):\n",
    "            subarray_sum += matrix[i][j]\n",
    "    return subarray_sum\n",
    "\n",
    "# Example usage:\n",
    "matrix = [\n",
    "    [1, 2, -1, -4, -20],\n",
    "    [-8, -3, 4, 2, 1],\n",
    "    [3, 8, 10, 1, 3],\n",
    "    [-4, -1, 1, 7, -6]\n",
    "]\n",
    "\n",
    "result, top_left, bottom_right = max_subarray_2d_bruteforce(matrix)\n",
    "print(\"Maximum Subarray Sum:\", result)\n",
    "print(\"Top Left Index:\", top_left)\n",
    "print(\"Bottom Right Index:\", bottom_right)\n"
   ]
  }
 ],
 "metadata": {
  "language_info": {
   "name": "python"
  }
 },
 "nbformat": 4,
 "nbformat_minor": 2
}
