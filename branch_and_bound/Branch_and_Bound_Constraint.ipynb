{
  "nbformat": 4,
  "nbformat_minor": 0,
  "metadata": {
    "colab": {
      "provenance": []
    },
    "kernelspec": {
      "name": "python3",
      "display_name": "Python 3"
    },
    "language_info": {
      "name": "python"
    }
  },
  "cells": [
    {
      "cell_type": "code",
      "execution_count": null,
      "metadata": {
        "id": "hR12PxlXMhCg"
      },
      "outputs": [],
      "source": [
        "import numpy as np\n",
        "from collections import deque\n",
        "\n",
        "def positive_sum(matrix):\n",
        "    s= 0\n",
        "    for row in matrix:\n",
        "        for i in row:\n",
        "            if i > 0:\n",
        "                s += i\n",
        "\n",
        "    return s\n",
        "\n",
        "\n",
        "def max_segment_branch_and_bound_constraint(matrix, k, l):\n",
        "    m = matrix.shape[0]\n",
        "    n = matrix.shape[1]\n",
        "    initial_partial = ([0, m-1, 0, n-1], np.sum(matrix))\n",
        "    initial_best = positive_sum(matrix)\n",
        "\n",
        "    def valid(i1, i2, j1, j2):\n",
        "        return i1 <= i2 and j1 <= j2 and i1 >= 0 and i2 < m and j1 >= 0 and j2 < n\n",
        "\n",
        "    def matrix_sub_sum(i1, i2, j1, j2):\n",
        "        return np.sum(matrix[i1:i2+1, j1:j2+1])\n",
        "\n",
        "    def positive_sub_sum(i1, i2, j1, j2):\n",
        "        s = 0\n",
        "        for i in range(i1, i2+1):\n",
        "            for j in range(j1, j2+1):\n",
        "                if matrix[i, j] > 0:\n",
        "                    s += matrix[i, j]\n",
        "        return s\n",
        "\n",
        "    def generate_children(partial, best):\n",
        "        i1, i2, j1, j2 = partial[0]\n",
        "        children = []\n",
        "\n",
        "        if valid(i1+1, i2, j1, j2):\n",
        "            children.append((i1+1, i2, j1, j2))\n",
        "        if valid(i1, i2-1, j1, j2):\n",
        "            children.append((i1, i2-1, j1, j2))\n",
        "\n",
        "        if valid(i1, i2, j1+1, j2):\n",
        "            children.append((i1, i2, j1+1, j2))\n",
        "\n",
        "        if valid(i1, i2, j1, j2-1):\n",
        "            children.append((i1, i2, j1, j2-1))\n",
        "        return children\n",
        "\n",
        "    q = deque([(initial_partial, initial_best)])\n",
        "    d = {initial_partial[0]:(initial_partial[1], initial_best)}\n",
        "\n",
        "    while q:\n",
        "        current_partial, current_best = q.popleft()\n",
        "\n",
        "        for child in generate_children(current_partial, current_best):\n",
        "          if child not in d:\n",
        "            a = matrix_sub_sum(*child)\n",
        "            b = positive_sub_sum(*child)\n",
        "            d[child] = (a, b)\n",
        "            if b > initial_partial[1]:\n",
        "                q.append(((child, a), b))\n",
        "                if a > initial_partial[1]:\n",
        "                    initial_partial = (child, a)\n",
        "\n",
        "\n",
        "\n",
        "    return initial_partial[1] , (initial_partial[0][0], initial_partial[0][2]) ,(initial_partial[0][1],initial_partial[0][3])\n"
      ]
    }
  ]
}